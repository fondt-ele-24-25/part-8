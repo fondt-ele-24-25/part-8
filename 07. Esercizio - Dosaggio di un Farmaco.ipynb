{
 "cells": [
  {
   "cell_type": "markdown",
   "metadata": {},
   "source": [
    "Prima di tutto abilitiamo l'estensione autoreload di Jupyter"
   ]
  },
  {
   "cell_type": "code",
   "execution_count": 1,
   "metadata": {},
   "outputs": [],
   "source": [
    "%load_ext autoreload\n",
    "%autoreload 2"
   ]
  },
  {
   "cell_type": "markdown",
   "metadata": {},
   "source": [
    "# Esercizio: Dosaggio di un Farmaco"
   ]
  },
  {
   "cell_type": "markdown",
   "metadata": {
    "slideshow": {
     "slide_type": "-"
    }
   },
   "source": [
    "**Consideriamo il problema di dosare un farmaco**\n",
    "\n",
    "Iniziamo modellando il comportamento per una sola dose\n",
    "\n",
    "* La quantità $x_k$ del farmaco in circolo decade esponenzialmente\n",
    "* ...Quindi la quantità di farmaco segue la ricorsione:\n",
    "\n",
    "$$\n",
    "x_{k+1} = \\alpha x_k\n",
    "$$\n",
    "\n",
    "Il farmaco ha un'emi-vita di $m$ (si dimezza dopo $m$ passi):\n",
    "\n",
    "* Quindi, poiché abbiamo che:\n",
    "\n",
    "$$\n",
    "x_{k+1} = \\alpha x_k \\Rightarrow \\quad x_{m} = \\alpha^m x_0\n",
    "$$\n",
    "\n",
    "* ...Il valore di $\\alpha$ può essere ottenuto a partire dall'emi-vita come segue:\n",
    "\n",
    "$$\n",
    "\\alpha^m = \\frac{1}{2} \\quad \\Rightarrow \\quad \\alpha = \\frac{1}{2}^{1/m} \n",
    "$$"
   ]
  },
  {
   "cell_type": "markdown",
   "metadata": {
    "slideshow": {
     "slide_type": "-"
    }
   },
   "source": [
    "**Nel modulo `sol.dd.py`, si definisca la classe:**\n",
    "\n",
    "```python\n",
    "class DrugDosage:\n",
    "    def __init__(self, half_life):\n",
    "        ...\n",
    "    \n",
    "    def __call__(self, x, k):\n",
    "        ...\n",
    "```\n",
    "\n",
    "* Al momento della costruzione, viene fornito il valore dell'emi-vita $m$ (i.e. `half_life`)\n",
    "* ...Il valore di $\\alpha$ può essere ricavato di conseguenza\n",
    "* Il metodo `__call__` deve calcolare il prossimo valore della ricorsione\n",
    "* Si noti che lo stato in questo caso è uno scalare\n",
    "* ...Quindi non è necessario usare un array di `numpy`\n",
    "\n",
    "**Nella cella seguente:**\n",
    "\n",
    "* Si utilizzi un ciclo per considerare valori di $m$ tra 1 e 8\n",
    "* Per ogni valore di $m$ si simuli l'andamento della popolazione usando `sim.simulate`\n",
    "  - Si utilizzi $x_0 = 1$ come valore iniziale (dose standard)\n",
    "  - ...E si considerino 72 passi di simulazione (ore)\n",
    "* Si disegni l'andamento utilizzando `sim.plot_sim`"
   ]
  },
  {
   "cell_type": "code",
   "execution_count": null,
   "metadata": {
    "scrolled": false
   },
   "outputs": [],
   "source": []
  },
  {
   "cell_type": "markdown",
   "metadata": {
    "slideshow": {
     "slide_type": "-"
    }
   },
   "source": [
    "**Si assuma che il farmaco venga ri-somministrato regolarmente**\n",
    "\n",
    "* In particolare, ogni $t$ unità di tempo\n",
    "* ...Viene assunta una nuova dose standard (i.e. 1)\n",
    "\n",
    "Il comportamento è ora definito dalla ricorsione:\n",
    "\n",
    "$$\n",
    "x_{k+1} = \\left\\{\\begin{aligned}\n",
    "& \\alpha x_k + 1& \\text{se $k \\mod t = 0$} \\\\\n",
    "& \\alpha x_k & \\text{altrimenti}\n",
    "\\end{aligned}\\right.\n",
    "$$\n",
    "\n",
    "**Nel modulo `sol.dd.py`, si definisca la classe:**\n",
    "\n",
    "```python\n",
    "class DrugDosage2:\n",
    "    def __init__(self, half_life, repeat):\n",
    "        ...\n",
    "    \n",
    "    def __call__(self, x, k):\n",
    "        ...\n",
    "```\n",
    "\n",
    "* Al momento della costruzione, viene fornito il valore dell'emi-vita $m$ (i.e. `half_life`)\n",
    "* ...E del periodo di riassuzione $t$ (i.e. repeat)\n",
    "* Il metodo `__call__` deve calcolare il prossimo valore della ricorsione\n",
    "* Si noti che lo stato in questo caso è uno scalare\n",
    "* ...Quindi non è necessario usare un array di `numpy`\n",
    "\n",
    "**Nella cella seguente:**\n",
    "\n",
    "* Si assume una emivita di 4 ore\n",
    "* Si utilizzi un ciclo per considerare valori di $t$ tra 1 e 8\n",
    "* Si noti che i valori di $t$ _devono essere interi_ per poter utilizzare l'operatore modulo\n",
    "* Per ogni valore di $t$ si simuli l'andamento della popolazione usando `sim.simulate`\n",
    "  - Si utilizzi $x_0 = 0$ come valore iniziale (dose standard)\n",
    "  - ...E si considerino 72 passi di simulazione (ore)\n",
    "* Si disegni l'andamento utilizzando `sim.plot_sim`"
   ]
  },
  {
   "cell_type": "code",
   "execution_count": null,
   "metadata": {
    "scrolled": false
   },
   "outputs": [],
   "source": []
  }
 ],
 "metadata": {
  "celltoolbar": "Slideshow",
  "kernelspec": {
   "display_name": "Python 3 (ipykernel)",
   "language": "python",
   "name": "python3"
  },
  "language_info": {
   "codemirror_mode": {
    "name": "ipython",
    "version": 3
   },
   "file_extension": ".py",
   "mimetype": "text/x-python",
   "name": "python",
   "nbconvert_exporter": "python",
   "pygments_lexer": "ipython3",
   "version": "3.11.8"
  },
  "rise": {
   "center": false,
   "enable_chalkboard": true,
   "transition": "fade"
  }
 },
 "nbformat": 4,
 "nbformat_minor": 4
}
