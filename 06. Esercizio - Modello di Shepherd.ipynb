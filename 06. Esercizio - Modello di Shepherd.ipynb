{
 "cells": [
  {
   "cell_type": "markdown",
   "metadata": {},
   "source": [
    "Prima di tutto abilitiamo l'estensione autoreload di Jupyter"
   ]
  },
  {
   "cell_type": "code",
   "execution_count": 1,
   "metadata": {},
   "outputs": [],
   "source": [
    "%load_ext autoreload\n",
    "%autoreload 2"
   ]
  },
  {
   "cell_type": "markdown",
   "metadata": {},
   "source": [
    "# Esercizio: Modello di Shepherd"
   ]
  },
  {
   "cell_type": "markdown",
   "metadata": {
    "slideshow": {
     "slide_type": "-"
    }
   },
   "source": [
    "**Il modello di popolazione Shepherd è definito dalla ricorsione:**\n",
    "\n",
    "$$\n",
    "x_{k+1} = \\frac{r x_k}{1 + \\left(\\frac{x_k}{N}\\right)^2}\n",
    "$$\n",
    "\n",
    "Dove:\n",
    "\n",
    "- $x_k$ è il valore della popolazione al passo $k$\n",
    "- $r > 0$ è il tasso di crescita\n",
    "- $N$ è un valore di popolazione che, se raggiunto, dimezza $r$"
   ]
  },
  {
   "cell_type": "markdown",
   "metadata": {
    "slideshow": {
     "slide_type": "-"
    }
   },
   "source": [
    "**Nel modulo `sol.shepherd.py`, si definisca la classe:**\n",
    "\n",
    "```python\n",
    "class Shepherd:\n",
    "    def __init__(self, r, N=1):\n",
    "        ...\n",
    "    \n",
    "    def __call__(self, x, k):\n",
    "        ...\n",
    "```\n",
    "\n",
    "* Il costruttore riceve come ingresso il valore di `r` ed `N`\n",
    "* Il metodo `__call__` deve calcolare il prossimo valore della popolazione\n",
    "* Si noti che lo stato in questo caso è uno scalare\n",
    "* ...Quindi non è necessario usare un array di `numpy`\n",
    "\n",
    "**Nella cella seguente:**\n",
    "\n",
    "* Si utilizzi un ciclo per considerare valori di $r$ tra 0.1 e 10\n",
    "* Per ogni valore di $r$ si simuli l'andamento della popolazione usando `sim.simulate`\n",
    "  - Si utilizzi $x_0 = 0.5$ come valore iniziale della popolazione\n",
    "  - ...E si considerino 100 passi di simulazione\n",
    "* Si disegni l'andamento utilizzando `sim.plot_sim`\n",
    "* Si osservi quali tipi di comportamento può avere il sistema"
   ]
  },
  {
   "cell_type": "code",
   "execution_count": null,
   "metadata": {
    "scrolled": false
   },
   "outputs": [],
   "source": []
  }
 ],
 "metadata": {
  "celltoolbar": "Slideshow",
  "kernelspec": {
   "display_name": "Python 3 (ipykernel)",
   "language": "python",
   "name": "python3"
  },
  "language_info": {
   "codemirror_mode": {
    "name": "ipython",
    "version": 3
   },
   "file_extension": ".py",
   "mimetype": "text/x-python",
   "name": "python",
   "nbconvert_exporter": "python",
   "pygments_lexer": "ipython3",
   "version": "3.11.8"
  },
  "rise": {
   "center": false,
   "enable_chalkboard": true,
   "transition": "fade"
  }
 },
 "nbformat": 4,
 "nbformat_minor": 4
}
