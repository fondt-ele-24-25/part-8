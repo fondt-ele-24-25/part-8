{
 "cells": [
  {
   "cell_type": "markdown",
   "metadata": {},
   "source": [
    "Prima di tutto abilitiamo l'estensione autoreaload di Jupyter"
   ]
  },
  {
   "cell_type": "code",
   "execution_count": 3,
   "metadata": {},
   "outputs": [
    {
     "name": "stdout",
     "output_type": "stream",
     "text": [
      "The autoreload extension is already loaded. To reload it, use:\n",
      "  %reload_ext autoreload\n"
     ]
    }
   ],
   "source": [
    "%load_ext autoreload\n",
    "%autoreload 2"
   ]
  },
  {
   "cell_type": "markdown",
   "metadata": {
    "slideshow": {
     "slide_type": "slide"
    }
   },
   "source": [
    "# Sistemi Dinamici Tempo Discreti"
   ]
  },
  {
   "cell_type": "markdown",
   "metadata": {
    "slideshow": {
     "slide_type": "subslide"
    }
   },
   "source": [
    "## Volpi e Conigli\n",
    "\n",
    "**Consideriamo l'evoluzione di una popolazione di volpi e conigli**\n",
    "\n",
    "Useremo un modello semplificato definito dalla seguente ricorsione:\n",
    "\n",
    "$$\\begin{align}\n",
    "v_{k+1} &= v_k + r_v (c_k - p v_k) \\\\\n",
    "c_{k+1} &= r_c c_k - p v_k\n",
    "\\end{align}$$\n",
    "\n",
    "Dove:\n",
    "\n",
    "* $v_k$ è il numero di volpi al tempo $k$\n",
    "* $c_k$ è il numero di conigli al tempo $k$\n",
    "* $r_c$ è il tasso di riproduzione dei conigli\n",
    "* $p$ è il tasso di predazione delle volpi sui conigli\n",
    "* $r_v$ è l'impatto della abbondanza/scarsità di conigli sulle volpi"
   ]
  },
  {
   "cell_type": "markdown",
   "metadata": {
    "slideshow": {
     "slide_type": "subslide"
    }
   },
   "source": [
    "## ...E Sistemi Dinamici Discreti\n",
    "\n",
    "**Si tratta di un esempio di _sistema dinamico discreto_**\n",
    "\n",
    "...Che in generale è descritto da una ricorsione del tipo:\n",
    "\n",
    "$$\n",
    "x_{k+1} = f(x_k, k)\n",
    "$$\n",
    "\n",
    "**Il sistema ha uno _stato_**\n",
    "\n",
    "* Nel caso generale $x_k$ è un vettore ed ha molte componenti\n",
    "* ...Ma in casi più semplici può essere uno scalare\n",
    "\n",
    "**Lo stato _varia_ in modo discreto nel tempo (i.e. $k$)**\n",
    "\n",
    "* La funzione $f$ si chiama _funzione di transizione_\n",
    "* ...Ed in generale può dipendere dallo stato corrente (i.e. $x_k$)\n",
    "* ...Ma anche dal tempo"
   ]
  },
  {
   "cell_type": "markdown",
   "metadata": {
    "slideshow": {
     "slide_type": "subslide"
    }
   },
   "source": [
    "## Volpi e Conigli Come Sistema Dinamico Discreto\n",
    "\n",
    "**Nel nostro caso abbiamo:**\n",
    "\n",
    "$$\n",
    "x_{k+1} = \n",
    "\\left(\\begin{array}{c}\n",
    "v_{k+1} \\\\\n",
    "c_{k+1}\n",
    "\\end{array}\\right)\n",
    "=\n",
    "\\left(\\begin{array}{c}\n",
    "v_k + r_v (c_k - p v_k) \\\\\n",
    "r_c c_k - p v_k\n",
    "\\end{array}\\right)\n",
    "= f(x_k, k)\n",
    "$$\n",
    "\n",
    "* Lo stato $x_k$ ha due componenti, i.e. numero di volpi e congli\n",
    "* La funzione di transizione è vettoriale\n",
    "* La funzione di transizione non ha una vera dipendenza diretta dal tempo\n",
    "* ...Perché $k$ non compare come termine nella sua formula"
   ]
  },
  {
   "cell_type": "markdown",
   "metadata": {
    "slideshow": {
     "slide_type": "subslide"
    }
   },
   "source": [
    "## Evoluzione di Sistemi Dinamici Discreti\n",
    "\n",
    "**Si può simulare l'evoluzione di un sistema di questo tipo**\n",
    "\n",
    "...Usando algoritmo semplice e generale\n",
    "\n",
    "* Dato uno stato iniziale $x_0$ ed un numero di passi $n$\n",
    "* Memorizza lo stato $x_0$, associato al passo 0\n",
    "* Ripeti per $k$ che va da $0$ ad $n-1$:\n",
    "  - Calcola $x_{k+1}$ usando $f(x_k, k)$\n",
    "  - Memorizza il nuovo stato, associato al passo $k+1$"
   ]
  },
  {
   "cell_type": "markdown",
   "metadata": {
    "slideshow": {
     "slide_type": "subslide"
    }
   },
   "source": [
    "## Evoluzione di Sistemi Dinamici Discreti\n",
    "\n",
    "**Possiamo codificare l'algoritmo come segue:**\n",
    "\n",
    "```python\n",
    "def simulate(f, X0, n):\n",
    "    res = [X0] # Lo stato al passo 0 è x0\n",
    "    for k in range(0, n):\n",
    "        xnext = f(res[k], k) # Ottengo il prossimo stato\n",
    "        res.append(xnext) # Aggiungo il nuovo stato in fondo alla lista\n",
    "    return np.array(res) # Converto in numpy array e restituisco\n",
    "```\n",
    "\n",
    "* La funzione `f` è chiamata con due parametri\n",
    "* ...Ossia lo stato (in `res[k]`) ed il tempo `k`\n",
    "* Durate il calcolo gli stati sono memorizzati in una lista\n",
    "* Al momento della restituzione, la lista è convertita in un `array`\n",
    "\n",
    "**L'algoritmo è disponibile nel modulo `base.sim`**"
   ]
  },
  {
   "cell_type": "markdown",
   "metadata": {
    "slideshow": {
     "slide_type": "subslide"
    }
   },
   "source": [
    "## Esempio: Volpi e Conigli\n",
    "\n",
    "**Per poter eseguire l'algoritmo dobbiamo definire la funzione di transizione**\n",
    "\n",
    "Potremmo pensare di impostarla così:\n",
    "\n",
    "```python\n",
    "def volpi_conigli(X, k, rv=1.05, rc=2, p=2.5):\n",
    "    v, c = X # \"Spacchetto\" lo stato\n",
    "    nv = v + rv * (c - p * v) # volpi al prossimo passo\n",
    "    nc = rc*c - p * v # conigli al prossimo passo\n",
    "    return np.array([nv, nc])\n",
    "```"
   ]
  },
  {
   "cell_type": "code",
   "execution_count": 4,
   "metadata": {},
   "outputs": [
    {
     "name": "stdout",
     "output_type": "stream",
     "text": [
      "[ 98.5 190. ]\n",
      "[100.6 192. ]\n"
     ]
    }
   ],
   "source": [
    "from esempio import vc # la funzione è definita in questo modulo\n",
    "print(vc.volpi_conigli(X=(4, 100), k=0))\n",
    "print(vc.volpi_conigli(X=(4, 100), k=0, p=2))"
   ]
  },
  {
   "cell_type": "markdown",
   "metadata": {},
   "source": [
    "* Possiamo invocarl passando solo `X` e `k`, ma anche specificare gli altri parametri"
   ]
  },
  {
   "cell_type": "markdown",
   "metadata": {
    "slideshow": {
     "slide_type": "subslide"
    }
   },
   "source": [
    "## Esempio: Volpi e Conigli\n",
    "\n",
    "**La nostra funzione può essere usata all'interno di `simulate`**"
   ]
  },
  {
   "cell_type": "code",
   "execution_count": 5,
   "metadata": {},
   "outputs": [
    {
     "name": "stdout",
     "output_type": "stream",
     "text": [
      "[[  4.        100.       ]\n",
      " [ 98.5       190.       ]\n",
      " [ 39.4375    133.75     ]\n",
      " [ 76.3515625 168.90625  ]]\n"
     ]
    }
   ],
   "source": [
    "from base import sim\n",
    "X0 = [4, 100]\n",
    "X = sim.simulate(vc.volpi_conigli, X0, n=100)\n",
    "print(X[:4]) # Primi 4 stati visitati"
   ]
  },
  {
   "cell_type": "markdown",
   "metadata": {},
   "source": [
    "* `simulate` invoca `volpi_conigli` passando i valori di `X` e `k`\n",
    "\n",
    "Il risultato è una matrice (array bi-dimensionale):\n",
    "\n",
    "* Ogni riga è associata ad un valore di tempo\n",
    "* Ogni colonna è associata ad una componente dello stato"
   ]
  },
  {
   "cell_type": "markdown",
   "metadata": {
    "slideshow": {
     "slide_type": "subslide"
    }
   },
   "source": [
    "## Esempio: Volpi e Conigli\n",
    "\n",
    "**Possiamo disegnare gli andamenti delle due componenti di stato**"
   ]
  },
  {
   "cell_type": "code",
   "execution_count": 6,
   "metadata": {},
   "outputs": [
    {
     "data": {
      "image/png": "[encoded data removed]",
      "text/plain": [
       "<Figure size 1500x300 with 1 Axes>"
      ]
     },
     "metadata": {},
     "output_type": "display_data"
    }
   ],
   "source": [
    "X0 = [4, 100]\n",
    "X = sim.simulate(vc.volpi_conigli, X0, n=100)\n",
    "sim.plot_sim(X, names=['volpi', 'conigli'])"
   ]
  },
  {
   "cell_type": "markdown",
   "metadata": {},
   "source": [
    "* La funzione `plot_sim` è definita nel modulo `base.sim`\n",
    "* Potete dare un'occhiata al codice, per vedere nei dettagli come funziona"
   ]
  },
  {
   "cell_type": "markdown",
   "metadata": {
    "slideshow": {
     "slide_type": "subslide"
    }
   },
   "source": [
    "## Un Problema e Due Soluzioni Imperfette\n",
    "\n",
    "**L'approccio che abbiamo usato funziona**\n",
    "\n",
    "...Ma non permette di fare esperimenti con diversi valori di $r_v$, $r_c$ e $p$\n",
    "\n",
    "* Possiamo cambiare $r_v$, $r_c$ e $p$ al momento della chiamata di `volpi_conigli`\n",
    "* Ma durante un esperimento, la chiamata viene effettuata da `simulate`\n",
    "* ...Che passa solo i valori di `X` e `k`"
   ]
  },
  {
   "cell_type": "markdown",
   "metadata": {},
   "source": [
    "**Due possibili soluzioni (entrambe inadeguate):**\n",
    "\n",
    "* Possiamo cambiare i valori di default di `rv`, `rc` e `p`\n",
    "  - ...Ma così facendo dobbiamo cambiare il codice prima di ogni esperimento\n",
    "* Possiamo fare in modo che `simulate` specifichi anche `rv`, `rc` e `p`\n",
    "  - ...Ma così facendo l'algoritmo non è più generico"
   ]
  },
  {
   "cell_type": "markdown",
   "metadata": {
    "slideshow": {
     "slide_type": "subslide"
    }
   },
   "source": [
    "## Una Soluzione Basata su Classi Funzione\n",
    "\n",
    "**Possiamo risolvere il problema usando una classe funzione (in `base.vc`)**\n",
    "\n",
    "```python\n",
    "class VolpiConigli:\n",
    "    def __init__(self, rv, rc, p):\n",
    "        self.p = p\n",
    "        self.rv = rv\n",
    "        self.rc = rc\n",
    "\n",
    "    def __call__(self, X, k): # Funzione di transizione\n",
    "        v, c = X\n",
    "        nv = v + self.rv * (c - self.p * v)\n",
    "        nc = self.rc*c - self.p * v\n",
    "        return np.array([nv, nc])\n",
    "```"
   ]
  },
  {
   "cell_type": "markdown",
   "metadata": {},
   "source": [
    "* I valori di `rv`, `rc` e `p` sono passati _durante la costruzione_\n",
    "* I valorid di `X` e `k` sono passati _durante l'invocazione_"
   ]
  },
  {
   "cell_type": "markdown",
   "metadata": {
    "slideshow": {
     "slide_type": "subslide"
    }
   },
   "source": [
    "## Una Soluzione Basata su Classi Funzione\n",
    "\n",
    "**Ora possiamo costruire _più istanze_ della funzione di transizione**\n",
    "\n",
    "...Ciascuna con i suoi valori per $r_v$, $r_c$ e $p$"
   ]
  },
  {
   "cell_type": "code",
   "execution_count": 7,
   "metadata": {},
   "outputs": [
    {
     "name": "stdout",
     "output_type": "stream",
     "text": [
      "Prossimo stato per f1: [ 98.5 190. ]\n",
      "Prossimo stato per f2: [ 97.24 188.8 ]\n"
     ]
    }
   ],
   "source": [
    "f1 = vc.VolpiConigli(rv=1.05, rc=2, p=2.5)\n",
    "f2 = vc.VolpiConigli(rv=1.05, rc=2, p=2.8)\n",
    "print(f\"Prossimo stato per f1: {f1(X=[4, 100], k=0)}\")\n",
    "print(f\"Prossimo stato per f2: {f2(X=[4, 100], k=0)}\")"
   ]
  },
  {
   "cell_type": "markdown",
   "metadata": {},
   "source": [
    "Quando chiamiamo le due funzioni passiamo solo `X` e `k`\n",
    "\n",
    "* ...Perché il metodo `__call__` ha solo quei due parametri\n",
    "\n",
    "...Ma otteniamo valori diversi\n",
    "\n",
    "* ...Perché `self.rv`, `self.rc` e `self.p` hanno valori diversi nelle due istanze"
   ]
  },
  {
   "cell_type": "markdown",
   "metadata": {
    "slideshow": {
     "slide_type": "subslide"
    }
   },
   "source": [
    "## Una Soluzione Basata su Classi Funzione\n",
    "\n",
    "**Questo ci permette di fare esperimenti in serie, usando un ciclo**"
   ]
  },
  {
   "cell_type": "code",
   "execution_count": 8,
   "metadata": {},
   "outputs": [
    {
     "data": {
      "image/png": "[encoded data removed]",
      "text/plain": [
       "<Figure size 1500x100 with 1 Axes>"
      ]
     },
     "metadata": {},
     "output_type": "display_data"
    },
    {
     "data": {
      "image/png": "[encoded data removed]",
      "text/plain": [
       "<Figure size 1500x100 with 1 Axes>"
      ]
     },
     "metadata": {},
     "output_type": "display_data"
    },
    {
     "data": {
      "image/png": "[encoded data removed]",
      "text/plain": [
       "<Figure size 1500x100 with 1 Axes>"
      ]
     },
     "metadata": {},
     "output_type": "display_data"
    }
   ],
   "source": [
    "X0 = [4, 100]\n",
    "for p in [2.5, 2.8, 3]:\n",
    "    f = vc.VolpiConigli(rv=1.05, rc=2, p=p) # Costruisco la funzione di transizione\n",
    "    X = sim.simulate(f, X0, n=100)\n",
    "    sim.plot_sim(X=X, title=f\"p = {p}\", figsize=(15, 1))"
   ]
  }
 ],
 "metadata": {
  "celltoolbar": "Slideshow",
  "kernelspec": {
   "display_name": "Python 3 (ipykernel)",
   "language": "python",
   "name": "python3"
  },
  "language_info": {
   "codemirror_mode": {
    "name": "ipython",
    "version": 3
   },
   "file_extension": ".py",
   "mimetype": "text/x-python",
   "name": "python",
   "nbconvert_exporter": "python",
   "pygments_lexer": "ipython3",
   "version": "3.11.11"
  },
  "rise": {
   "center": false,
   "enable_chalkboard": true,
   "transition": "fade"
  }
 },
 "nbformat": 4,
 "nbformat_minor": 4
}
