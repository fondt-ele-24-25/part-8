{
 "cells": [
  {
   "cell_type": "markdown",
   "metadata": {
    "slideshow": {
     "slide_type": "slide"
    }
   },
   "source": [
    "# Classi"
   ]
  },
  {
   "cell_type": "markdown",
   "metadata": {
    "slideshow": {
     "slide_type": "subslide"
    }
   },
   "source": [
    "## Definizione di Tipi di Dato\n",
    "\n",
    "**Python è un linguaggio multi-paradigma**\n",
    "\n",
    "...Ma è considerato soprattutto un linguaggio _orientato agli oggetti_\n",
    "\n",
    "* La caratteristica dei linguaggi orientati agli oggetti (object-oriented)\n",
    "* ...È di permettere la definizione di _nuovi tipi di dato_\n",
    "\n",
    "**Cosa possiamo fare con i tipi di dato primitivi?**\n",
    "\n",
    "E.g. interi, floating point...\n",
    "\n",
    "* Costruire nuove istanze (e.g. il numero 3, il numero 1.2)\n",
    "* Eseguire operazioni su di essi\n",
    "\n",
    "**Python ci permette di fare lo stesso con _tipi di dato definiti dall'utente_**\n",
    "\n",
    "Per esempio, possiamo definire un tipo \"numero complesso\""
   ]
  },
  {
   "cell_type": "markdown",
   "metadata": {
    "slideshow": {
     "slide_type": "subslide"
    }
   },
   "source": [
    "## Classi\n",
    "\n",
    "**Il costrutto che permette di definire nuovi tipi si chiama _classe_**\n",
    "\n",
    "* Le classi hanno una sintassi piuttosto complessa\n",
    "* ...Quindi la introdurremo per gradi\n",
    "\n",
    "> **Una classe rappresenta _l'archetipo_ (il \"progetto\") per un nuovo tipo di dato**\n",
    "\n",
    "**La classe deve specificare:**\n",
    "\n",
    "* Il _nome_ del nuovo tipo di dato\n",
    "* ...Come esso è rappresentato\n",
    "* ...Come fare a costruirne un'istanza\n",
    "* ...Quali operazioni sono disponibili su di esso"
   ]
  },
  {
   "cell_type": "markdown",
   "metadata": {
    "slideshow": {
     "slide_type": "subslide"
    }
   },
   "source": [
    "## Classi\n",
    "\n",
    "**Per introdurre una nuova classe, si usa l'istruzione `class`**\n",
    "\n",
    "```python\n",
    "class <nome classe>:\n",
    "    ...\n",
    "```\n",
    "\n",
    "* La parola chiave `class` indica l'inizio dell'istruzione\n",
    "* `<nome classe>` è un identificatore (con le solite regole)\n",
    "\n",
    "**Vediamo un esempio (numero complesso)**"
   ]
  },
  {
   "cell_type": "code",
   "execution_count": 1,
   "metadata": {},
   "outputs": [],
   "source": [
    "class Complex:\n",
    "    pass"
   ]
  },
  {
   "cell_type": "markdown",
   "metadata": {},
   "source": [
    "* Per convenzione, si fanno iniziare i nomi di classe con una _maiuscola_\n",
    "* `pass` è un'istruzione \"nulla\" (la specifica della classe è assente)"
   ]
  },
  {
   "cell_type": "markdown",
   "metadata": {
    "slideshow": {
     "slide_type": "subslide"
    }
   },
   "source": [
    "## Costruttore di Default\n",
    "\n",
    "**Per costruire una istanza di una classe (i.e. un _oggetto_)**\n",
    "\n",
    "...Ne si \"chiama\" il nome come se fosse una funzione:"
   ]
  },
  {
   "cell_type": "code",
   "execution_count": 2,
   "metadata": {},
   "outputs": [
    {
     "name": "stdout",
     "output_type": "stream",
     "text": [
      "<__main__.Complex object at 0x1131fbd50>\n"
     ]
    }
   ],
   "source": [
    "a = Complex()\n",
    "print(a)"
   ]
  },
  {
   "cell_type": "markdown",
   "metadata": {},
   "source": [
    "**Tale funzione si chiama _costruttore_**\n",
    "\n",
    "* Quando viene eseguita, Python _alloca memoria per il nuovo oggetto_\n",
    "* ...E restituisce l'oggetto creato (i.e. un dato)\n",
    "\n",
    "**Una classe con specifica vuota ha un costruttore di default**\n",
    "\n",
    "...Che non va niente se non allocare memoria"
   ]
  },
  {
   "cell_type": "markdown",
   "metadata": {
    "slideshow": {
     "slide_type": "subslide"
    }
   },
   "source": [
    "## Campi\n",
    "\n",
    "**È possibile _definire variabili_ nell'istanza creata**\n",
    "\n",
    "Per farlo, occorre tenere presente che:\n",
    "\n",
    "* Una classe definisce un _namespace_\n",
    "* ...Ed ogni istanza della classe ha una sua area di memoria\n",
    "\n",
    "Al momento della definizione vanno quindi specificate _classe_ ed _istanza_\n",
    "\n",
    "**In Python si forniscono entrambe usando la _notazione puntata_**"
   ]
  },
  {
   "cell_type": "code",
   "execution_count": 3,
   "metadata": {},
   "outputs": [],
   "source": [
    "a = Complex()\n",
    "a.real = 1 # variabile real, nell'istanza appena creata\n",
    "a.img = -1 # variabile img, nell'istanza appena creata"
   ]
  },
  {
   "cell_type": "markdown",
   "metadata": {},
   "source": [
    "* Prima si indica l'_istanza_ (e di conseguenza la classe) in cui creare la variabile\n",
    "* ...E dopo il punto si specifica il _nome_ della variabile da creare"
   ]
  },
  {
   "cell_type": "markdown",
   "metadata": {
    "slideshow": {
     "slide_type": "subslide"
    }
   },
   "source": [
    "## Campi\n",
    "\n",
    "**Le variabili specificate in questo modo si dicono _campi_ (o _attributi_)**\n",
    "\n",
    "* A parte l'uso della notazione puntata\n",
    "* ...Si comportano come normali variabili\n",
    "\n",
    "**Vediamo qualche esempio:**"
   ]
  },
  {
   "cell_type": "code",
   "execution_count": 4,
   "metadata": {},
   "outputs": [
    {
     "name": "stdout",
     "output_type": "stream",
     "text": [
      "Il numero è: 1 + -1i\n"
     ]
    }
   ],
   "source": [
    "a = Complex()\n",
    "a.real = 1\n",
    "a.img = -1\n",
    "print(f'Il numero è: {a.real} + {a.img}i')"
   ]
  },
  {
   "cell_type": "markdown",
   "metadata": {},
   "source": [
    "* In particolare possiamo accederne al contenuto\n",
    "* ...E modificarlo, se necessario"
   ]
  },
  {
   "cell_type": "markdown",
   "metadata": {
    "slideshow": {
     "slide_type": "subslide"
    }
   },
   "source": [
    "## Definizione di Costruttori\n",
    "\n",
    "**Tipicamente, è naturale che tutte le istanze di una certa classe**\n",
    "\n",
    "...Condividano determinati campi\n",
    "\n",
    "* E.g. tutti i numeri complessi hanno una parte reale ed un immaginaria\n",
    "\n",
    "**Possiamo assegnarli a mano, e.g.:**"
   ]
  },
  {
   "cell_type": "code",
   "execution_count": 5,
   "metadata": {},
   "outputs": [],
   "source": [
    "a, b = Complex(), Complex()\n",
    "a.real, a.img = 1, -1\n",
    "b.real, b.img = 2, 0.5"
   ]
  },
  {
   "cell_type": "markdown",
   "metadata": {},
   "source": [
    "...Ma è _molto scomodo_ e _soggetto ad errori_\n",
    "\n",
    "**Sarebbe molto meglio _definire una funzione_ per costruire nuovi oggetti**"
   ]
  },
  {
   "cell_type": "markdown",
   "metadata": {
    "slideshow": {
     "slide_type": "subslide"
    }
   },
   "source": [
    "## Definizione del Costruttore\n",
    "\n",
    "**Python lo consente permettendo di _definire il costruttore_ di una classe**\n",
    "\n",
    "```python\n",
    "class <nome classe>:\n",
    "    def __init__(self, ...):\n",
    "        ...\n",
    "```\n",
    "\n",
    "* Come nome si usa sempre `__init__`\n",
    "  - Nella chiamata _useremo il nome della classe_ (come prima)\n",
    "* Il primo parametro contiene sempre l'_oggetto che stiamo costruendo_\n",
    "  - Per convenzione, lo si chiama `self`\n",
    "* Un costrutture può avere altri parametri, a seconda della necessità"
   ]
  },
  {
   "cell_type": "markdown",
   "metadata": {
    "slideshow": {
     "slide_type": "subslide"
    }
   },
   "source": [
    "## Definizione del Costruttore\n",
    "\n",
    "**Vediamo un esempio per i numeri complessi**"
   ]
  },
  {
   "cell_type": "code",
   "execution_count": 6,
   "metadata": {},
   "outputs": [],
   "source": [
    "class Complex:\n",
    "    def __init__(self, real, img):\n",
    "        self.real = real\n",
    "        self.img = img"
   ]
  },
  {
   "cell_type": "markdown",
   "metadata": {},
   "source": [
    "* Il nostro costruttore richiede due parametri (`real` ed `img`)\n",
    "* Assegna alla variabile `self.real` il valore contenuto in `real`\n",
    "* Assegna alla variabile `self.img` il valore contenuto in `img`\n",
    "\n",
    "**Si noti che `self.real` e `real` sono variabili distinte**\n",
    "\n",
    "* `self.real` è una variabile nell'istanza/dato che stiamo costruendo\n",
    "* `real` è un (normalissimo) parametro formale"
   ]
  },
  {
   "cell_type": "markdown",
   "metadata": {
    "slideshow": {
     "slide_type": "subslide"
    }
   },
   "source": [
    "## Definizione del Costruttore\n",
    "\n",
    "**Al momento della chiamata è necessario passare i parametri**"
   ]
  },
  {
   "cell_type": "code",
   "execution_count": 7,
   "metadata": {},
   "outputs": [
    {
     "name": "stdout",
     "output_type": "stream",
     "text": [
      "a contiene: 1 + -1i\n",
      "b contiene: 2 + 0.5i\n"
     ]
    }
   ],
   "source": [
    "a = Complex(1, -1)\n",
    "b = Complex(2, 0.5)\n",
    "print(f'a contiene: {a.real} + {a.img}i')\n",
    "print(f'b contiene: {b.real} + {b.img}i')"
   ]
  },
  {
   "cell_type": "markdown",
   "metadata": {},
   "source": [
    "* Visto che abbiamo definito un costruttore\n",
    "* ...Questo viene eseguito al momento della costruzione di un nuovo dato\n",
    "* ...Ed inizializza i campi `real` e `img`, come abbiamo indicato\n",
    "\n"
   ]
  },
  {
   "cell_type": "markdown",
   "metadata": {
    "slideshow": {
     "slide_type": "subslide"
    }
   },
   "source": [
    "## Funzioni per Operare su Oggetti\n",
    "\n",
    "**Di solito, ad un tipo di dato sono associate determinate operazioni**\n",
    "\n",
    "* Per esempio, nel caso dei numeri complessi\n",
    "* ...Potremmo avere la somma, prodotto, coniugato...\n",
    "\n",
    "**Possiamo pensare di implementarle usando normali funzioni:**"
   ]
  },
  {
   "cell_type": "code",
   "execution_count": 8,
   "metadata": {},
   "outputs": [
    {
     "name": "stdout",
     "output_type": "stream",
     "text": [
      "c = 3 + -0.5i\n"
     ]
    }
   ],
   "source": [
    "def add_complex(x, y):\n",
    "    return Complex(x.real + y.real, x.img + y.img)\n",
    "\n",
    "a, b = Complex(1, -1), Complex(2, 0.5)\n",
    "c = add_complex(a, b)\n",
    "print(f'c = {c.real} + {c.img}i')"
   ]
  },
  {
   "cell_type": "markdown",
   "metadata": {},
   "source": [
    "* L'apprioccio è corretto ed utilizzabile\n",
    "* ...Ma sarebbe più comodo associare la funzioni direttamente alla classe!"
   ]
  },
  {
   "cell_type": "markdown",
   "metadata": {
    "slideshow": {
     "slide_type": "subslide"
    }
   },
   "source": [
    "## Metodi\n",
    "\n",
    "**Una funzione associata ad una classe si chiama _metodo_**\n",
    "\n",
    "La sintassi è la solita, ma compare dentro la definizione di classe:\n",
    "\n",
    "```python\n",
    "class <nome classe>:\n",
    "    def <nome metodo>(self, ...):\n",
    "        ...\n",
    "```\n",
    "\n",
    "**Un metodo viene invocato _su un oggetto_**\n",
    "\n",
    "* Tale oggetto viene passato al metodo come _primo argomento_\n",
    "* Per questa ragione, il primo argomento si chiama per convenzione `self`"
   ]
  },
  {
   "cell_type": "markdown",
   "metadata": {
    "slideshow": {
     "slide_type": "subslide"
    }
   },
   "source": [
    "## Metodi\n",
    "\n",
    "**Vediamo un esempio:**"
   ]
  },
  {
   "cell_type": "code",
   "execution_count": 9,
   "metadata": {},
   "outputs": [
    {
     "name": "stdout",
     "output_type": "stream",
     "text": [
      "c = 3 + -0.5i\n"
     ]
    }
   ],
   "source": [
    "class Complex:\n",
    "    def __init__(self, real, img):\n",
    "        self.real, self.img = real, img\n",
    "    \n",
    "    def add(self, x):\n",
    "        return Complex(self.real + x.real, self.img + x.img)\n",
    "\n",
    "a, b = Complex(1, -1), Complex(2, 0.5)\n",
    "c = a.add(b) # <-- Chiamata del metodo\n",
    "print(f'c = {c.real} + {c.img}i')"
   ]
  },
  {
   "cell_type": "markdown",
   "metadata": {},
   "source": [
    "* Per invocare un metodo si usa la notazione puntata\n",
    "* In questo modo si specifica l'oggetto da passare come `self`\n",
    "* ...E di conseguenza la classe da usare come namespace"
   ]
  },
  {
   "cell_type": "markdown",
   "metadata": {
    "slideshow": {
     "slide_type": "subslide"
    }
   },
   "source": [
    "## Ridefinizione di Operazioni\n",
    "\n",
    "**Utilizzando metodi con nomi specifici...**\n",
    "\n",
    "...È integrare la classe con le operazioni base di Python\n",
    "\n",
    "* Si può supportare l'operatore `+` definendo un metodo `__add__`\n",
    "* Si può supportare l'operatore `*` definendo un metodo `__mul__`\n",
    "* Si può definire come un oggetto si convertito in stringa definendo `__repr__`\n",
    "\n",
    "Potete trovare informazioni dettagliate sulla [documentazione ufficiale](https://docs.python.org/3/reference/datamodel.html)\n",
    "\n",
    "**Si tratta di una funzionalità molto comoda**\n",
    "\n",
    "* Può rendere il codice più compatto e leggibile\n",
    "* ...Ed è sfruttata da molti dei pacchetti Python più utilizzati"
   ]
  },
  {
   "cell_type": "markdown",
   "metadata": {
    "slideshow": {
     "slide_type": "subslide"
    }
   },
   "source": [
    "## Ridefinizione di Operazioni\n",
    "\n",
    "**Vediamo un esempio per la nostra classe** "
   ]
  },
  {
   "cell_type": "code",
   "execution_count": 10,
   "metadata": {},
   "outputs": [
    {
     "name": "stdout",
     "output_type": "stream",
     "text": [
      "c = 3 + -0.5i\n"
     ]
    }
   ],
   "source": [
    "class Complex:\n",
    "    def __init__(self, real, img):\n",
    "        self.real, self.img = real, img\n",
    "    \n",
    "    def __add__(self, x):\n",
    "        return Complex(self.real + x.real, self.img + x.img)\n",
    "    \n",
    "    def __repr__(self):\n",
    "        return f'{self.real} + {self.img}i'\n",
    "\n",
    "a, b = Complex(1, -1), Complex(2, 0.5)\n",
    "c = a + b # <-- viene utilizzato __add__\n",
    "print(f'c = {c}') # <-- viene utilizzato __repr__"
   ]
  },
  {
   "cell_type": "markdown",
   "metadata": {},
   "source": [
    "* `a + b` corrisponde alla chiamata `a.__add__(b)`\n",
    "* Quando un `Complex` è convertito in stringa viene chiamato `__repr__`"
   ]
  },
  {
   "cell_type": "markdown",
   "metadata": {
    "slideshow": {
     "slide_type": "subslide"
    }
   },
   "source": [
    "## Metodi delle Liste\n",
    "\n",
    "**Molti costrutti che abbiamo già utilizzato sono implementati come classi**\n",
    "\n",
    "...E di conseguenza hanno diversi metodi!\n",
    "\n",
    "* Vediamo qualche metodo delle _liste_:"
   ]
  },
  {
   "cell_type": "code",
   "execution_count": 11,
   "metadata": {},
   "outputs": [
    {
     "name": "stdout",
     "output_type": "stream",
     "text": [
      "['a', 'b', 'c', 'd', 'e']\n",
      "c\n",
      "['a', 'b', 'd', 'e']\n",
      "1\n"
     ]
    }
   ],
   "source": [
    "l = ['a', 'b', 'c', 'd']\n",
    "\n",
    "l.append('e') # Aggiunge un elemento in coda\n",
    "print(l)\n",
    "\n",
    "print(l.pop(2)) # Rimuove un elemento dalla lista e lo restituisce\n",
    "print(l)\n",
    "\n",
    "print(l.count('a')) # Conta il numero di occorrenze di un valore"
   ]
  },
  {
   "cell_type": "markdown",
   "metadata": {
    "slideshow": {
     "slide_type": "subslide"
    }
   },
   "source": [
    "## Metodi delle Liste\n",
    "\n",
    "**Molti costrutti che abbiamo già utilizzato sono implementati come classi**\n",
    "\n",
    "...E di conseguenza hanno diversi metodi!\n",
    "\n",
    "* Vediamo qualche metodo delle _liste_:"
   ]
  },
  {
   "cell_type": "code",
   "execution_count": 12,
   "metadata": {},
   "outputs": [
    {
     "name": "stdout",
     "output_type": "stream",
     "text": [
      "1\n",
      "['a', 'b', 'c', 'd']\n"
     ]
    }
   ],
   "source": [
    "l = ['a', 'b', 'c', 'd']\n",
    "\n",
    "print(l.index('b')) # Restituisce l'indice di un elemento nella lista\n",
    "\n",
    "l2 = l.copy() # copia la lista\n",
    "print(l2)"
   ]
  },
  {
   "cell_type": "markdown",
   "metadata": {},
   "source": [
    "* Inoltre le liste utilizzano la ridefinizione degli operatori\n",
    "* Per maggiori dettagli, potete consultare [questa pagina](https://www.w3schools.com/python/python_ref_list.asp)"
   ]
  },
  {
   "cell_type": "markdown",
   "metadata": {
    "slideshow": {
     "slide_type": "subslide"
    }
   },
   "source": [
    "## Metodi delle Tuple\n",
    "\n",
    "**Per le _tuple_ sono definiti solo un paio di metodi:**"
   ]
  },
  {
   "cell_type": "code",
   "execution_count": 13,
   "metadata": {},
   "outputs": [
    {
     "name": "stdout",
     "output_type": "stream",
     "text": [
      "2\n",
      "1\n"
     ]
    }
   ],
   "source": [
    "t = ('a', 'b', 'c', 'a', 'b')\n",
    "\n",
    "print(t.count('a')) # Conta il numero di occorrenze di un elemento\n",
    "\n",
    "print(t.index('b')) # Indice di un elemento in una tupla"
   ]
  },
  {
   "cell_type": "markdown",
   "metadata": {},
   "source": [
    "* Per maggiori dettagli, potete consultare [questa pagina](https://www.w3schools.com/python/python_ref_tuple.asp)"
   ]
  },
  {
   "cell_type": "markdown",
   "metadata": {
    "slideshow": {
     "slide_type": "subslide"
    }
   },
   "source": [
    "## Metodi degli Insiemi\n",
    "\n",
    "**Per gli _insiemi_ abbiamo:**"
   ]
  },
  {
   "cell_type": "code",
   "execution_count": 14,
   "metadata": {},
   "outputs": [
    {
     "name": "stdout",
     "output_type": "stream",
     "text": [
      "{'b', 'e', 'a', 'c'}\n",
      "{'e', 'a', 'c'}\n",
      "{'e', 'a', 'c'}\n"
     ]
    }
   ],
   "source": [
    "s = {'a', 'b', 'c'}\n",
    "\n",
    "s.add('e') # Aggiunge un elemento\n",
    "print(s)\n",
    "\n",
    "s.pop() # Rimuove un elemento (non possiamo scegliere quale)\n",
    "print(s)\n",
    "\n",
    "print(s.copy()) # Restituisce una copia dell'insieme"
   ]
  },
  {
   "cell_type": "markdown",
   "metadata": {},
   "source": [
    "* Per maggiori dettagli, potete consultare [questa pagina](https://www.w3schools.com/python/python_ref_set.asp)"
   ]
  },
  {
   "cell_type": "markdown",
   "metadata": {
    "slideshow": {
     "slide_type": "subslide"
    }
   },
   "source": [
    "## Metodi dei Dizionari\n",
    "\n",
    "**Per i _dizionari_ abbiamo:**"
   ]
  },
  {
   "cell_type": "code",
   "execution_count": 15,
   "metadata": {},
   "outputs": [
    {
     "name": "stdout",
     "output_type": "stream",
     "text": [
      "Mario\n",
      "Rossi\n",
      "nome: Mario\n",
      "cognome: Rossi\n",
      "{'nome': 'Mario', 'cognome': 'Rossi'}\n"
     ]
    }
   ],
   "source": [
    "d = {'nome': 'Mario', 'cognome': 'Rossi'}\n",
    "\n",
    "for v in d.values(): # Generatore per iterare sui _valori_\n",
    "    print(v)\n",
    "\n",
    "for k, v in d.items(): # Generatore per iterare su coppie (chiave, valore)\n",
    "    print(f'{k}: {v}')\n",
    "\n",
    "print(d.copy()) # Restituisce una copia"
   ]
  },
  {
   "cell_type": "markdown",
   "metadata": {},
   "source": [
    "* Per maggiori dettagli, potete consultare [questa pagina](https://www.w3schools.com/python/python_ref_dictionary.asp)"
   ]
  },
  {
   "cell_type": "markdown",
   "metadata": {
    "slideshow": {
     "slide_type": "subslide"
    }
   },
   "source": [
    "## Metodi delle Stringhe\n",
    "\n",
    "**Per le _stringhe_ sono disponibili molti metodi**\n",
    "\n",
    "Qui ne vediamo solo alcuni:"
   ]
  },
  {
   "cell_type": "code",
   "execution_count": 16,
   "metadata": {},
   "outputs": [
    {
     "name": "stdout",
     "output_type": "stream",
     "text": [
      "6\n",
      "3\n",
      "['Ciao', ' mondo!']\n"
     ]
    }
   ],
   "source": [
    "s = 'Ciao, mondo!'\n",
    "\n",
    "print(s.find('mondo')) # Indice di una stringa all'interno di un'altra\n",
    "\n",
    "print(s.count('o')) # Numero di occorrenze di un carattere\n",
    "\n",
    "print(s.split(',')) # Divide in più stringhe, sulla base di un separatore"
   ]
  },
  {
   "cell_type": "markdown",
   "metadata": {},
   "source": [
    "* Potete documentarvi riguardo agli altri su [questa pagina](https://www.w3schools.com/python/python_ref_string.asp)"
   ]
  },
  {
   "cell_type": "markdown",
   "metadata": {
    "slideshow": {
     "slide_type": "subslide"
    }
   },
   "source": [
    "## Operatore `==` ed Operatore `is`\n",
    "\n",
    "**Supponiamo di volere confrontare dei numeri complessi**\n",
    "\n",
    "* Allo scopo, possiamo ridefinire l'operatore di uguaglianza `==`\n",
    "* Il metodo da fornire si chiama in questo caso `__eq__`"
   ]
  },
  {
   "cell_type": "code",
   "execution_count": 17,
   "metadata": {},
   "outputs": [],
   "source": [
    "class Complex:\n",
    "    def __init__(self, real, img):\n",
    "        self.real, self.img = real, img\n",
    "    \n",
    "    def __add__(self, x):\n",
    "        return Complex(self.real + x.real, self.img + x.img)\n",
    "    \n",
    "    def __eq__(self, x): # Operatore di uguaglianza\n",
    "        return self.real == x.real and self.img == x.img\n",
    "    \n",
    "    def __repr__(self):\n",
    "        return f'{self.real} + {self.img}i'"
   ]
  },
  {
   "cell_type": "markdown",
   "metadata": {
    "slideshow": {
     "slide_type": "subslide"
    }
   },
   "source": [
    "## Operatore `==` ed Operatore `is`\n",
    "\n",
    "**Questo approccio ci permette di effettuare confronti**"
   ]
  },
  {
   "cell_type": "code",
   "execution_count": 18,
   "metadata": {},
   "outputs": [
    {
     "name": "stdout",
     "output_type": "stream",
     "text": [
      "a == a: True\n",
      "a == b: False\n",
      "a == c: True\n"
     ]
    }
   ],
   "source": [
    "a = Complex(1, -1)\n",
    "b = Complex(2, 0.5)\n",
    "c = Complex(1, -1)\n",
    "print(f'a == a: {a == a}')\n",
    "print(f'a == b: {a == b}')\n",
    "print(f'a == c: {a == c}')"
   ]
  },
  {
   "cell_type": "markdown",
   "metadata": {},
   "source": [
    "* Come da noi specificato, l'operatore `==` restituisce `True`\n",
    "* ...Se i due oggetti confrontati hanno gli stessi valori\n",
    "\n",
    "**Quando si lavora con le classi, però, è possibile un _altro tipo di confronto_**"
   ]
  },
  {
   "cell_type": "markdown",
   "metadata": {
    "slideshow": {
     "slide_type": "subslide"
    }
   },
   "source": [
    "## Operatore `==` ed Operatore `is`\n",
    "\n",
    "**In particolare, ci può interessare se due espressioni...**\n",
    "\n",
    "...Denotano _lo stesso oggetto_ come _la stessa area di memoria_\n",
    "\n",
    "* Per questo scopo Python fornisce l'operatore `is`:"
   ]
  },
  {
   "cell_type": "code",
   "execution_count": 19,
   "metadata": {},
   "outputs": [
    {
     "name": "stdout",
     "output_type": "stream",
     "text": [
      "a is a: True\n",
      "a is b: False\n",
      "a is c: False\n"
     ]
    }
   ],
   "source": [
    "a = Complex(1, -1)\n",
    "b = Complex(2, 0.5)\n",
    "c = Complex(1, -1)\n",
    "print(f'a is a: {a is a}')\n",
    "print(f'a is b: {a is b}')\n",
    "print(f'a is c: {a is c}')"
   ]
  },
  {
   "cell_type": "markdown",
   "metadata": {},
   "source": [
    "* `a is a` denota `True`, perché si tratta dello stesso oggetto\n",
    "* `a is c` denota `False`, anche se parte reale ed immaginaria sono uguali"
   ]
  },
  {
   "cell_type": "markdown",
   "metadata": {
    "slideshow": {
     "slide_type": "subslide"
    }
   },
   "source": [
    "## Operatore `==` ed Operatore `is`\n",
    "\n",
    "**Per negare `is` si può usare `not` come al solito:**"
   ]
  },
  {
   "cell_type": "code",
   "execution_count": 20,
   "metadata": {},
   "outputs": [
    {
     "name": "stdout",
     "output_type": "stream",
     "text": [
      "not (a is a): False\n"
     ]
    }
   ],
   "source": [
    "a = Complex(1, -1)\n",
    "print(f'not (a is a): {not (a is a)}')"
   ]
  },
  {
   "cell_type": "markdown",
   "metadata": {},
   "source": [
    "...Ma anche la sintassi `is not` (più leggibile):"
   ]
  },
  {
   "cell_type": "code",
   "execution_count": 21,
   "metadata": {},
   "outputs": [
    {
     "name": "stdout",
     "output_type": "stream",
     "text": [
      "a is not a: False\n"
     ]
    }
   ],
   "source": [
    "print(f'a is not a: {a is not a}')"
   ]
  },
  {
   "cell_type": "markdown",
   "metadata": {
    "slideshow": {
     "slide_type": "subslide"
    }
   },
   "source": [
    "## Operatore `==` ed Operatore `is`\n",
    "\n",
    "**L'operatore `is` is usa soprattutto per i confronti con `None`**\n",
    "\n",
    "In particolare, si usano:\n",
    "\n",
    "* `<espr.> is None` per sapere se l'espressione denota `None`\n",
    "* `<espr.> is not None` per sapere se denota qualcosa di diverso da `None`"
   ]
  },
  {
   "cell_type": "code",
   "execution_count": 22,
   "metadata": {},
   "outputs": [
    {
     "name": "stdout",
     "output_type": "stream",
     "text": [
      "a is None: True\n",
      "b is None: False\n",
      "a is not None: False\n",
      "b is not None: True\n"
     ]
    }
   ],
   "source": [
    "a = None\n",
    "b = 3\n",
    "print(f'a is None: {a is None}')\n",
    "print(f'b is None: {b is None}')\n",
    "print(f'a is not None: {a is not None}')\n",
    "print(f'b is not None: {b is not None}')"
   ]
  },
  {
   "cell_type": "markdown",
   "metadata": {
    "slideshow": {
     "slide_type": "subslide"
    }
   },
   "source": [
    "## Classi e Funzioni\n",
    "\n",
    "**In Python, le funzioni _sono oggetti_ cioè istanze di una classe**\n",
    "\n",
    "* In particolare, ogni oggetto può essere considerato una funzione\n",
    "* ...Purché implementi il metodo `__call__(self, ...)`\n",
    "\n",
    "**In effetti, quando usiamo l'operatore di esecuzione, i.e. `()`**\n",
    "\n",
    "...Inneschiamo una chiamata al metodo `__call__` "
   ]
  },
  {
   "cell_type": "code",
   "execution_count": 23,
   "metadata": {},
   "outputs": [
    {
     "name": "stdout",
     "output_type": "stream",
     "text": [
      "ciao\n",
      "ciao\n"
     ]
    }
   ],
   "source": [
    "print('ciao')\n",
    "print.__call__('ciao')"
   ]
  },
  {
   "cell_type": "markdown",
   "metadata": {},
   "source": [
    "* `print` è a tutti gli effetti una variabile\n",
    "* ...Contiene un oggetto che implementa il metodo `__call__`\n",
    "* ...Possiamo chiamarlo esplicitamente, oppure in modo più facile con `()`"
   ]
  },
  {
   "cell_type": "markdown",
   "metadata": {
    "slideshow": {
     "slide_type": "subslide"
    }
   },
   "source": [
    "## Classi e Funzioni\n",
    "\n",
    "**Possiamo usare questa caratteristica per creare \"funzioni configurabili\"**"
   ]
  },
  {
   "cell_type": "code",
   "execution_count": 24,
   "metadata": {},
   "outputs": [],
   "source": [
    "class Saluta:\n",
    "    \n",
    "    def __init__(self, name):\n",
    "        self.name = name\n",
    "        \n",
    "    def __call__(self):\n",
    "        print(f\"Ciao, {self.name}!\")"
   ]
  },
  {
   "cell_type": "markdown",
   "metadata": {},
   "source": [
    "* La classe `Saluta` contiene il campo `name`\n",
    "* ...Che viene inizializzato in fase di costruzione\n",
    "* La classe definisce anche il metodo `__call__`\n",
    "* ...Quindi può essere chiamata (è una funzione!)"
   ]
  },
  {
   "cell_type": "markdown",
   "metadata": {
    "slideshow": {
     "slide_type": "subslide"
    }
   },
   "source": [
    "## Classi e Funzioni\n",
    "\n",
    "**Possiamo usare questa caratteristica per creare \"funzioni configurabili\"**"
   ]
  },
  {
   "cell_type": "code",
   "execution_count": 25,
   "metadata": {},
   "outputs": [],
   "source": [
    "f = Saluta('Mario')\n",
    "g = Saluta('Luigi')"
   ]
  },
  {
   "cell_type": "markdown",
   "metadata": {},
   "source": [
    "* `f` è una istanza di `Saluta`, in cui `name` vale \"Mario\"\n",
    "* `g` è una istanza di `Saluta`, in cui `name` vale \"Luigi\""
   ]
  },
  {
   "cell_type": "code",
   "execution_count": 26,
   "metadata": {},
   "outputs": [
    {
     "name": "stdout",
     "output_type": "stream",
     "text": [
      "Ciao, Mario!\n",
      "Ciao, Luigi!\n"
     ]
    }
   ],
   "source": [
    "f()\n",
    "g()"
   ]
  },
  {
   "cell_type": "markdown",
   "metadata": {},
   "source": [
    "* Sia `f` che `g` possono essere chiamate\n",
    "* ...Ma il loro comportamento è diverso\n",
    "* ...Perché `name` ha un valore diverso nelle due istanze!"
   ]
  },
  {
   "cell_type": "markdown",
   "metadata": {
    "slideshow": {
     "slide_type": "subslide"
    }
   },
   "source": [
    "## Altri Argomenti\n",
    "\n",
    "**Le classi hanno un ruolo fondamentale anche in altri meccanismi**\n",
    "\n",
    "...Che però _non copriremo_ nel corso:\n",
    "\n",
    "* Si possono definire classi che _ereditano_ da altre classi\n",
    "  - Si dice che una classe _derivata_ eredita lo schema di una classe _base_\n",
    "  - La classe derivata acquisisce tutti i metodi ed i campi di quella base\n",
    "  - Potete trovare maggiori dettagli sulla [documentazione ufficiale](https://docs.python.org/3/tutorial/classes.html)\n",
    "* La classi hanno un ruolo importante nella gestione degli errori\n",
    "  - Si utilizza il meccanismo delle eccezioni\n",
    "  - ...In cui speciali classi rappresentano tipologie di errore\n",
    "  - Potete trovare maggiori dettagli sulla [documentazione ufficiale](https://docs.python.org/3/tutorial/errors.html)"
   ]
  }
 ],
 "metadata": {
  "celltoolbar": "Slideshow",
  "kernelspec": {
   "display_name": "Python 3 (ipykernel)",
   "language": "python",
   "name": "python3"
  },
  "language_info": {
   "codemirror_mode": {
    "name": "ipython",
    "version": 3
   },
   "file_extension": ".py",
   "mimetype": "text/x-python",
   "name": "python",
   "nbconvert_exporter": "python",
   "pygments_lexer": "ipython3",
   "version": "3.11.11"
  },
  "rise": {
   "center": false,
   "enable_chalkboard": true,
   "transition": "fade"
  }
 },
 "nbformat": 4,
 "nbformat_minor": 4
}
